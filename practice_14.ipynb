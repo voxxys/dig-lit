{
 "cells": [
  {
   "cell_type": "markdown",
   "metadata": {},
   "source": [
    "# Практика 14"
   ]
  },
  {
   "cell_type": "markdown",
   "metadata": {},
   "source": [
    "---"
   ]
  },
  {
   "cell_type": "markdown",
   "metadata": {},
   "source": [
    "## Часть 1: сложение произвольного количества чисел"
   ]
  },
  {
   "cell_type": "markdown",
   "metadata": {},
   "source": [
    "##### timestamp: 0:20"
   ]
  },
  {
   "cell_type": "markdown",
   "metadata": {},
   "source": [
    "Решим задачу со сложением чисел, похожую на задачу из Практики 1, но на этот раз попробуем распарсить гораздо более сложную строку, в которой может быть неограниченное количество слагаемых, разделенных знаком \"+\":"
   ]
  },
  {
   "cell_type": "code",
   "execution_count": 2,
   "metadata": {},
   "outputs": [],
   "source": [
    "# калькулятор a + b + c + d + ...\n",
    "\n",
    "a = \"1234+23324+234\" # пример строки"
   ]
  },
  {
   "cell_type": "markdown",
   "metadata": {},
   "source": [
    "Эту строку можно разделить при помощи метода split() и получить массив чисел:"
   ]
  },
  {
   "cell_type": "code",
   "execution_count": 3,
   "metadata": {},
   "outputs": [
    {
     "name": "stdout",
     "output_type": "stream",
     "text": [
      "['1234', '23324', '234']\n"
     ]
    }
   ],
   "source": [
    "a = \"1234+23324+234\" # пример строки\n",
    "\n",
    "list_nums = a.split('+') # получаем из строки массив чисел, разделяя по символу \"+\"\n",
    "\n",
    "print(list_nums) # проверяем, что получили набор чисел"
   ]
  },
  {
   "cell_type": "markdown",
   "metadata": {},
   "source": [
    "---"
   ]
  },
  {
   "cell_type": "markdown",
   "metadata": {},
   "source": [
    "##### timestamp: 1:20"
   ]
  },
  {
   "cell_type": "markdown",
   "metadata": {},
   "source": [
    "Осталось добавить цикл, который складывает элементы списка:"
   ]
  },
  {
   "cell_type": "code",
   "execution_count": 4,
   "metadata": {},
   "outputs": [
    {
     "name": "stdout",
     "output_type": "stream",
     "text": [
      "24792\n"
     ]
    }
   ],
   "source": [
    "a = \"1234+23324+234\" # пример строки\n",
    "\n",
    "list_nums = a.split('+') # получаем из строки массив чисел, разделяя по символу \"+\"\n",
    "\n",
    "i = 0\n",
    "sum = 0\n",
    "\n",
    "while i < len(list_nums): # проходим по списку полученных чисел и складываем их значения в переменую sum\n",
    "    sum = sum + int(list_nums[i]) # list_nums - массив строк, поэтому перед сложением нужно преобразовать его элемент в числовой вид\n",
    "    i = i + 1\n",
    "    \n",
    "print(sum)"
   ]
  },
  {
   "cell_type": "markdown",
   "metadata": {},
   "source": [
    "---"
   ]
  },
  {
   "cell_type": "markdown",
   "metadata": {},
   "source": [
    "## Часть 2: метрика текста"
   ]
  },
  {
   "cell_type": "markdown",
   "metadata": {},
   "source": [
    "##### timestamp: 3:09"
   ]
  },
  {
   "cell_type": "markdown",
   "metadata": {},
   "source": [
    "Решим задачу, в которой вычисляется некоторая метрика текста, показывающая отношение количества уникальных слов к общему числу слов."
   ]
  },
  {
   "cell_type": "code",
   "execution_count": 10,
   "metadata": {},
   "outputs": [],
   "source": [
    "# посчитать метрику текста: отношение уникальных слов к общему числу слов в тексте"
   ]
  },
  {
   "cell_type": "code",
   "execution_count": 5,
   "metadata": {},
   "outputs": [],
   "source": [
    "a = \"привет Антон Антон привет\" # пример строки - для простоты не используем знаки препинания"
   ]
  },
  {
   "cell_type": "markdown",
   "metadata": {},
   "source": [
    "Метрика уникальности такого текста должна быть 2/4 = 0.5 - в тексте 4 слова, при этом всего используются 2 уникальных слова (\"привет\", \"Антон\")."
   ]
  },
  {
   "cell_type": "markdown",
   "metadata": {},
   "source": [
    "---"
   ]
  },
  {
   "cell_type": "markdown",
   "metadata": {},
   "source": [
    "##### timestamp: 4:40"
   ]
  },
  {
   "cell_type": "markdown",
   "metadata": {},
   "source": [
    "В нашем случае самый простой способ посчитать количество слов в тексте - превратить текст в список и посчитать количество элементов:"
   ]
  },
  {
   "cell_type": "code",
   "execution_count": 6,
   "metadata": {},
   "outputs": [
    {
     "name": "stdout",
     "output_type": "stream",
     "text": [
      "4\n"
     ]
    }
   ],
   "source": [
    "a = \"привет Антон Антон привет\"\n",
    "b = a.split(' ') # между словами в тексте знак \" \", разделяем по нему\n",
    "print(len(b)) # выводим длину полученного списка"
   ]
  },
  {
   "cell_type": "markdown",
   "metadata": {},
   "source": [
    "---"
   ]
  },
  {
   "cell_type": "markdown",
   "metadata": {},
   "source": [
    "##### timestamp: 5:34"
   ]
  },
  {
   "cell_type": "markdown",
   "metadata": {},
   "source": [
    "Как получить количество уникальных слов?\n",
    "\n",
    "Мы можем идти по списку слов и запоминать, какие уже встречались.\n",
    "\n",
    "В этом случае как раз удобно использовать списки - можно завести список уникальных слов, на каждом слове проверять, входит ли в него встреченное слово, и если не входит, то добавлять.\n",
    "\n",
    "Для этого можно использовать конструкцию in, которая как раз проверяет наличие элемента в списке:"
   ]
  },
  {
   "cell_type": "code",
   "execution_count": 12,
   "metadata": {},
   "outputs": [],
   "source": [
    "a = \"привет Антон Антон привет\"\n",
    "b = a.split(' ') # между словами в тексте знак \" \", разделяем по нему\n",
    "\n",
    "uniq = [] # список уникальных слов, пока пустой, будем добавлять по мере просмотра списка слов текста\n",
    "\n",
    "i = 0\n",
    "while i < len(b):\n",
    "    if b[i] in uniq: # если слово уже в списке уникальных, ничего делать не надо\n",
    "        pass # конструкция, которая позволяет делать \"пустые\" if\n",
    "    i = i + 1 # увеличиваем значение итератора, чтобы цикл перешел к следующему элементу списка"
   ]
  },
  {
   "cell_type": "markdown",
   "metadata": {},
   "source": [
    "В случае, если очередного слова нет в списке, его нужно добавить. При этом сложение списка uniq с элементом списка b выдаст ошибку, поскольку этот элемент является строкой:"
   ]
  },
  {
   "cell_type": "code",
   "execution_count": 9,
   "metadata": {},
   "outputs": [
    {
     "ename": "TypeError",
     "evalue": "can only concatenate list (not \"str\") to list",
     "output_type": "error",
     "traceback": [
      "\u001b[0;31m---------------------------------------------------------------------------\u001b[0m",
      "\u001b[0;31mTypeError\u001b[0m                                 Traceback (most recent call last)",
      "\u001b[0;32m<ipython-input-9-76ff3288c8f3>\u001b[0m in \u001b[0;36m<module>\u001b[0;34m\u001b[0m\n\u001b[1;32m      1\u001b[0m \u001b[0muniq\u001b[0m \u001b[0;34m=\u001b[0m \u001b[0;34m[\u001b[0m\u001b[0;34m]\u001b[0m\u001b[0;34m\u001b[0m\u001b[0;34m\u001b[0m\u001b[0m\n\u001b[0;32m----> 2\u001b[0;31m \u001b[0muniq\u001b[0m \u001b[0;34m=\u001b[0m \u001b[0muniq\u001b[0m \u001b[0;34m+\u001b[0m \u001b[0mb\u001b[0m\u001b[0;34m[\u001b[0m\u001b[0;36m0\u001b[0m\u001b[0;34m]\u001b[0m\u001b[0;34m\u001b[0m\u001b[0;34m\u001b[0m\u001b[0m\n\u001b[0m",
      "\u001b[0;31mTypeError\u001b[0m: can only concatenate list (not \"str\") to list"
     ]
    }
   ],
   "source": [
    "uniq = []\n",
    "uniq = uniq + b[0]"
   ]
  },
  {
   "cell_type": "markdown",
   "metadata": {},
   "source": [
    "Однако можно сложить список с созданным списком из одного элемента, который является той же нужной нам строкой:"
   ]
  },
  {
   "cell_type": "code",
   "execution_count": 10,
   "metadata": {},
   "outputs": [],
   "source": [
    "uniq = []\n",
    "uniq = uniq + [b[0]] # uniq - список и [b[0]] - тоже список с одним элементом b[0], при этом b[0] - строка"
   ]
  },
  {
   "cell_type": "markdown",
   "metadata": {},
   "source": [
    "Добавим эту конструкцию к программе:"
   ]
  },
  {
   "cell_type": "code",
   "execution_count": 13,
   "metadata": {},
   "outputs": [
    {
     "name": "stdout",
     "output_type": "stream",
     "text": [
      "['привет', 'Антон']\n"
     ]
    }
   ],
   "source": [
    "a = \"привет Антон Антон привет\"\n",
    "b = a.split(' ') # между словами в тексте знак \" \", разделяем по нему\n",
    "\n",
    "uniq = [] # список уникальных слов, пока пустой, будем добавлять по мере просмотра списка слов текста\n",
    "\n",
    "i = 0\n",
    "while i < len(b):\n",
    "    if b[i] in uniq: # если слово уже в списке уникальных, ничего делать не надо\n",
    "        pass # конструкция, которая позволяет делать \"пустые\" if\n",
    "    else:\n",
    "        uniq = uniq + [b[i]] # добавляем слово к списку уникальных\n",
    "    i = i + 1 # увеличиваем значение итератора, чтобы цикл перешел к следующему элементу списка\n",
    "    \n",
    "print(uniq) # выводим список уникальных слов"
   ]
  },
  {
   "cell_type": "markdown",
   "metadata": {},
   "source": [
    "---"
   ]
  },
  {
   "cell_type": "markdown",
   "metadata": {},
   "source": [
    "##### timestamp: 9:10"
   ]
  },
  {
   "cell_type": "markdown",
   "metadata": {},
   "source": [
    "Можно избавиться от \"некрасивой\" конструкции с пустым условием if, если изменить условие на \"элемент b[i] **не** в списке uniq\", что можно сделать при помощи оператора **not**:"
   ]
  },
  {
   "cell_type": "code",
   "execution_count": 15,
   "metadata": {},
   "outputs": [
    {
     "name": "stdout",
     "output_type": "stream",
     "text": [
      "['привет', 'Антон']\n"
     ]
    }
   ],
   "source": [
    "a = \"привет Антон Антон привет\"\n",
    "b = a.split(' ') # между словами в тексте знак \" \", разделяем по нему\n",
    "\n",
    "uniq = [] # список уникальных слов, пока пустой, будем добавлять по мере просмотра списка слов текста\n",
    "\n",
    "i = 0\n",
    "while i < len(b):\n",
    "    if not b[i] in uniq: # если слово уже в списке уникальных, ничего делать не надо\n",
    "        uniq = uniq + [b[i]] # добавляем слово к списку уникальных\n",
    "    i = i + 1 # увеличиваем значение итератора, чтобы цикл перешел к следующему элементу списка\n",
    "    \n",
    "print(uniq) # выводим список уникальных слов"
   ]
  },
  {
   "cell_type": "markdown",
   "metadata": {},
   "source": [
    "---"
   ]
  },
  {
   "cell_type": "markdown",
   "metadata": {},
   "source": [
    "##### timestamp: 9:35"
   ]
  },
  {
   "cell_type": "markdown",
   "metadata": {},
   "source": [
    "Для решения задачи осталось найти отношение количества уникальных слов (длина списка uniq) к количеству слов в тексте (длина списка b):"
   ]
  },
  {
   "cell_type": "code",
   "execution_count": 17,
   "metadata": {},
   "outputs": [
    {
     "name": "stdout",
     "output_type": "stream",
     "text": [
      "0.5\n"
     ]
    }
   ],
   "source": [
    "print(len(uniq)/len(b))"
   ]
  }
 ],
 "metadata": {
  "kernelspec": {
   "display_name": "Python 3",
   "language": "python",
   "name": "python3"
  },
  "language_info": {
   "codemirror_mode": {
    "name": "ipython",
    "version": 3
   },
   "file_extension": ".py",
   "mimetype": "text/x-python",
   "name": "python",
   "nbconvert_exporter": "python",
   "pygments_lexer": "ipython3",
   "version": "3.7.8"
  }
 },
 "nbformat": 4,
 "nbformat_minor": 4
}
