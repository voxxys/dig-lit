{
 "cells": [
  {
   "cell_type": "markdown",
   "metadata": {},
   "source": [
    "# Практика 11"
   ]
  },
  {
   "cell_type": "markdown",
   "metadata": {},
   "source": [
    "---"
   ]
  },
  {
   "cell_type": "markdown",
   "metadata": {},
   "source": [
    "## Часть 1: игра с угадыванием числа"
   ]
  },
  {
   "cell_type": "markdown",
   "metadata": {},
   "source": [
    "##### timestamp: 0:32"
   ]
  },
  {
   "cell_type": "code",
   "execution_count": 7,
   "metadata": {},
   "outputs": [],
   "source": [
    "# Игра: компьютер загадал число, игрок вводит числа, компьютер отвечает больше/меньше/угадал"
   ]
  },
  {
   "cell_type": "markdown",
   "metadata": {},
   "source": [
    "Мы не знаем, сколько попыток потребуется пользователю для того, чтобы угадать число - логично использовать цикл while, который будет исполняться до тех пор, пока введенное число не совпадет с загаданным."
   ]
  },
  {
   "cell_type": "markdown",
   "metadata": {},
   "source": [
    "##### timestamp: 0:32"
   ]
  },
  {
   "cell_type": "markdown",
   "metadata": {},
   "source": [
    "Начнем решение задачи с части, которая выводит подсказки (больше/меньше/угадал)"
   ]
  },
  {
   "cell_type": "code",
   "execution_count": 8,
   "metadata": {},
   "outputs": [
    {
     "name": "stdin",
     "output_type": "stream",
     "text": [
      " 125\n"
     ]
    },
    {
     "name": "stdout",
     "output_type": "stream",
     "text": [
      "меньше\n"
     ]
    }
   ],
   "source": [
    "ans = 1234 # загаданное число\n",
    "\n",
    "check = input() # пользователь вводит строку\n",
    "check = int(check) # превращаем строку в число\n",
    "\n",
    "# проверка условий: больше, меньше или равно\n",
    "if(check > ans):\n",
    "    print(\"больше\") # выводим подсказку\n",
    "if(check < ans):\n",
    "    print(\"меньше\") # выводим подсказку\n"
   ]
  },
  {
   "cell_type": "markdown",
   "metadata": {},
   "source": [
    "---"
   ]
  },
  {
   "cell_type": "markdown",
   "metadata": {},
   "source": [
    "##### timestamp: 2:27"
   ]
  },
  {
   "cell_type": "markdown",
   "metadata": {},
   "source": [
    "Теперь нужно цикл: повторяем вывод подсказок до тех пор, пока пользователь не угадал (check и ans равны).\n",
    "\n",
    "Кроме того, внутрь цикла нужно добавить input() для того, чтобы пользователь мог попробовать угадать снова и получить подсказку к уже новому вводу."
   ]
  },
  {
   "cell_type": "code",
   "execution_count": 9,
   "metadata": {},
   "outputs": [
    {
     "name": "stdin",
     "output_type": "stream",
     "text": [
      " 1234\n"
     ]
    },
    {
     "name": "stdout",
     "output_type": "stream",
     "text": [
      "Поздравляем!\n"
     ]
    }
   ],
   "source": [
    "ans = 1234 # загаданное число\n",
    "\n",
    "check = input() # пользователь вводит строку\n",
    "check = int(check) # превращаем строку в число\n",
    "\n",
    "while ans != check:\n",
    "    if(check > ans):\n",
    "        print(\"больше\") # выводим подсказку\n",
    "    if(check < ans):\n",
    "        print(\"меньше\") # выводим подсказку\n",
    "    # других вариантов нет, потому что если ans = check, условие после while не выполняется и программа не заходит в тело цикла\n",
    "    \n",
    "    # добавляем ввод нового числа в конце цикла, чтобы на следующем повторении подсказка выводилась уже к этому вводу\n",
    "    check = input()\n",
    "    check = int(check)\n",
    "    \n",
    "print(\"Поздравляем!\") # если программа вышла из цикла, это значит, что check = ans и пользователь угадал число"
   ]
  },
  {
   "cell_type": "markdown",
   "metadata": {},
   "source": [
    "---"
   ]
  },
  {
   "cell_type": "markdown",
   "metadata": {},
   "source": [
    "## Часть 2: находим длину строки"
   ]
  },
  {
   "cell_type": "markdown",
   "metadata": {},
   "source": [
    "##### timestamp: 4:53"
   ]
  },
  {
   "cell_type": "markdown",
   "metadata": {},
   "source": [
    "Попробуем сами написать функцию len для числовых строк (строк, которые содержат только числа)."
   ]
  },
  {
   "cell_type": "code",
   "execution_count": null,
   "metadata": {},
   "outputs": [],
   "source": [
    "# функция len() для числовых строк"
   ]
  },
  {
   "cell_type": "markdown",
   "metadata": {},
   "source": [
    "Для того, чтобы посчитать количество знаков в строке, можно идти по строке и на каждом символе увеличивать значение переменной (в которой будем хранить количество символов) на один, пока не дойдем до конца строки. \n",
    "\n",
    "Как понять, что мы дошли до конца строки? Можно использовать то, что по условиям задачи строка состоит только из чисел.\n",
    "\n",
    "Если добавить в конце строке некоторый символ, не являющийся числом (например, букву 'e'), то на каждом повторении цикла можно сравнивать текущий символ с 'e' - когда это условие выполнится, мы будем знать, что дошли до конца строки."
   ]
  },
  {
   "cell_type": "code",
   "execution_count": 10,
   "metadata": {},
   "outputs": [
    {
     "name": "stdin",
     "output_type": "stream",
     "text": [
      " 1324\n"
     ]
    }
   ],
   "source": [
    "inp = input()\n",
    "inp = inp + 'e' # добавляем в конце строки после чисел букву 'e'"
   ]
  },
  {
   "cell_type": "markdown",
   "metadata": {},
   "source": [
    "---"
   ]
  },
  {
   "cell_type": "markdown",
   "metadata": {},
   "source": [
    "##### timestamp: 6:41"
   ]
  },
  {
   "cell_type": "markdown",
   "metadata": {},
   "source": [
    "До тех пор, пока текущий символ строки не равен 'e', увеличиваем счетчик:"
   ]
  },
  {
   "cell_type": "code",
   "execution_count": 15,
   "metadata": {},
   "outputs": [
    {
     "name": "stdin",
     "output_type": "stream",
     "text": [
      " 1234\n"
     ]
    },
    {
     "name": "stdout",
     "output_type": "stream",
     "text": [
      "4\n"
     ]
    }
   ],
   "source": [
    "inp = input()\n",
    "inp = inp + 'e' # добавляем в конце строки после чисел букву 'e'\n",
    "\n",
    "i = 0\n",
    "while inp[i] != 'e':\n",
    "    i = i + 1 # используем i одновременно как итератор и для хранения числа символов, поскольку цикл будет повторяться столько раз, сколько числовых символов в строке - не нужно заводить еще одну переменную\n",
    "print(i)"
   ]
  }
 ],
 "metadata": {
  "kernelspec": {
   "display_name": "Python 3",
   "language": "python",
   "name": "python3"
  },
  "language_info": {
   "codemirror_mode": {
    "name": "ipython",
    "version": 3
   },
   "file_extension": ".py",
   "mimetype": "text/x-python",
   "name": "python",
   "nbconvert_exporter": "python",
   "pygments_lexer": "ipython3",
   "version": "3.7.8"
  }
 },
 "nbformat": 4,
 "nbformat_minor": 4
}
