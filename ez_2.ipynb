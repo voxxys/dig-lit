{
 "cells": [
  {
   "cell_type": "code",
   "execution_count": 1,
   "metadata": {},
   "outputs": [
    {
     "name": "stdout",
     "output_type": "stream",
     "text": [
      "23\n",
      "9\n",
      "Буквы данного набора встречаются реже, чем гласные\n"
     ]
    }
   ],
   "source": [
    "a = 'мой дядя самых честных правил когда не в шутку занемог он уважать себя'\n",
    "\n",
    "let = 'м с д'\n",
    "let = let.split(' ')\n",
    "let\n",
    "\n",
    "list_vo = ['а', 'у', 'о', 'ы', 'и', 'э', 'я', 'ю', 'ё', 'е']\n",
    "\n",
    "match_list = 0\n",
    "match_list_vo = 0\n",
    "\n",
    "i = 0\n",
    "while i<len(a):\n",
    "    if a[i] in let:\n",
    "        match_list = match_list + 1\n",
    "    if a[i] in list_vo:\n",
    "        match_list_vo = match_list_vo + 1\n",
    "    i = i + 1\n",
    "    \n",
    "print(match_list_vo)\n",
    "print(match_list)\n",
    "\n",
    "if(match_list > match_list_vo):\n",
    "    print(\"Буквы данного набора встречаются чаще, чем гласные\")\n",
    "else:\n",
    "    if(match_list_vo > match_list):\n",
    "        print(\"Буквы данного набора встречаются реже, чем гласные\")\n",
    "    else:\n",
    "        print(\"Частоты равны\")\n",
    "\n",
    "\n",
    "    "
   ]
  },
  {
   "cell_type": "code",
   "execution_count": null,
   "metadata": {},
   "outputs": [],
   "source": []
  }
 ],
 "metadata": {
  "kernelspec": {
   "display_name": "Python 3",
   "language": "python",
   "name": "python3"
  },
  "language_info": {
   "codemirror_mode": {
    "name": "ipython",
    "version": 3
   },
   "file_extension": ".py",
   "mimetype": "text/x-python",
   "name": "python",
   "nbconvert_exporter": "python",
   "pygments_lexer": "ipython3",
   "version": "3.7.8"
  }
 },
 "nbformat": 4,
 "nbformat_minor": 4
}
